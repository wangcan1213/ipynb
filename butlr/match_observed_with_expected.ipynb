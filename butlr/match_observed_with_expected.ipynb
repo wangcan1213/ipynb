{
 "cells": [
  {
   "cell_type": "code",
   "execution_count": 1,
   "id": "634a804a-a639-425b-be88-4ce87a5e3974",
   "metadata": {},
   "outputs": [],
   "source": [
    "import numpy as np\n",
    "import matplotlib.pyplot as plt\n",
    "import scipy"
   ]
  },
  {
   "cell_type": "code",
   "execution_count": 2,
   "id": "bfb6cadb-0797-4299-beb4-50c187a58e87",
   "metadata": {},
   "outputs": [],
   "source": [
    "def current_sort_method(observed_coordinates, expected_coordinates):\n",
    "    \"\"\"\n",
    "    This is the current method we are using\n",
    "    It directly calls np.sort, which actually never changes the order of points, but only flip x-coord and y-coord if x is grater than y. \n",
    "    \"\"\"\n",
    "    observed_coordinates = np.sort(np.array(observed_coordinates))\n",
    "    expected_coordinates = np.sort(np.array(expected_coordinates))\n",
    "    return observed_coordinates, expected_coordinates\n",
    "\n",
    "\n",
    "def sort_points_new_method(observed_coordinates, expected_coordinates):\n",
    "    \"\"\"\n",
    "    This is one attemp to follow the original logic of sorting the points. Indeed it could change the order of points, but there is still issues, \n",
    "    which made me finally swtich to the method below. \n",
    "    \"\"\"\n",
    "    observed_coordinates = np.array(sorted(observed_coordinates, key=lambda x: (x[0], x[1])))\n",
    "    expected_coordinates = np.array(sorted(expected_coordinates, key=lambda x: (x[0], x[1])))\n",
    "    return observed_coordinates, expected_coordinates\n",
    "\n",
    "\n",
    "def reorder_points_by_matching(observed_coordinates, expected_coordinates):\n",
    "    \"\"\"\n",
    "    This is the final method I chose. It is not simply sorting the points according to its x- or y= coordinates, but trying to match expected \n",
    "    and observed coords based on their distance matrix.\n",
    "    \"\"\"\n",
    "    expected_coordinates = np.array(expected_coordinates)\n",
    "    observed_coordinates = np.array(observed_coordinates)\n",
    "    dist_matrix = scipy.spatial.distance.cdist(expected_coordinates, observed_coordinates)\n",
    "    expected_idx_list, observed_idx_list = scipy.optimize.linear_sum_assignment(dist_matrix)\n",
    "    return observed_coordinates[observed_idx_list], expected_coordinates[expected_idx_list]\n",
    "\n",
    "\n",
    "def compare_detection_coordinates(\n",
    "    expected_coordinates: list[list[float]],\n",
    "    observed_coordinates: list[list[float]],\n",
    "    coverage_dim: float = 1,\n",
    ") -> bool:\n",
    "    \"\"\"\n",
    "    This is the same piece of code in test_main.py to compare observed and expected detection coordinates. I delete the part of sorting and \n",
    "    will do sort/reorder outside. \n",
    "    \"\"\"\n",
    "\n",
    "    \n",
    "    if expected_coordinates.shape != observed_coordinates.shape:\n",
    "        return False\n",
    "\n",
    "    # As we have already compared the shape of the coordinates in the previous check\n",
    "    # we can assume that if expected_detections is empty then observed_detections is empty too\n",
    "    if len(expected_coordinates) == 0:\n",
    "        return True\n",
    "\n",
    "    elif len(expected_coordinates) > 0:\n",
    "        for idx in range(len(expected_coordinates)):\n",
    "            # We compute the error between the expected and observed detections\n",
    "            # We are only concerned with the magnitude of the error in the 2D plane\n",
    "            # projection from the sensor to the floor. Thus, we use the L2-norm.\n",
    "            displacement_vector = np.array(expected_coordinates[idx]) - np.array(observed_coordinates[idx])\n",
    "            error = np.linalg.norm(displacement_vector, ord=2)\n",
    "            if error <= 0.15 * coverage_dim:\n",
    "                return True\n",
    "    return False"
   ]
  },
  {
   "cell_type": "markdown",
   "id": "1c633431-fec1-4d8e-8fe7-cf85e63e479f",
   "metadata": {},
   "source": [
    "# Case 1"
   ]
  },
  {
   "cell_type": "markdown",
   "id": "889a63c6-5616-41e1-9565-a5156b3b9ee9",
   "metadata": {},
   "source": [
    "In this case, the coordinates of the two points for expected detections are exactly the same as those of the observed detections, only in a different order. However, it can be seen that the np.sort method currently used does not actually perform sorting, resulting in a returned result of False. The other two methods correctly returned a result of True."
   ]
  },
  {
   "cell_type": "code",
   "execution_count": 3,
   "id": "3044c899-1cb9-47ea-b492-aa19ee34a19c",
   "metadata": {},
   "outputs": [
    {
     "name": "stdout",
     "output_type": "stream",
     "text": [
      "Should be True.\n",
      "  raw_expected=[[0.403, 0.802], [0.423, 0.444]]\n",
      "  raw_observed=[[0.423, 0.444], [0.403, 0.802]]\n",
      "\n",
      "The sort method currently in use returns: False\n",
      "  new_expected=[[0.403, 0.802], [0.423, 0.444]]\n",
      "  new_observed=[[0.423, 0.444], [0.403, 0.802]]\n",
      "\n",
      "The new sort method that really sort points returns: True\n",
      "  new_expected=[[0.403, 0.802], [0.423, 0.444]]\n",
      "  new_observed=[[0.403, 0.802], [0.423, 0.444]]\n",
      "\n",
      "The matching-reorder method returns: True\n",
      "  new_expected=[[0.403, 0.802], [0.423, 0.444]]\n",
      "  new_observed=[[0.403, 0.802], [0.423, 0.444]]\n"
     ]
    }
   ],
   "source": [
    "expected = [[0.40309513, 0.80200477], [0.42328028, 0.44380363]]\n",
    "observed = [[0.42328028, 0.44380363], [0.40309513, 0.80200477]]\n",
    "\n",
    "expected, observed = np.array(expected), np.array(observed)\n",
    "\n",
    "should_be = True\n",
    "\n",
    "print(f\"Should be {should_be}.\\n  raw_expected={np.round(expected, 3).tolist()}\\n  raw_observed={np.round(observed, 3).tolist()}\")\n",
    "\n",
    "observed_new, expected_new = current_sort_method(observed, expected)\n",
    "print(f\"\\nThe sort method currently in use returns: {compare_detection_coordinates(observed_new, expected_new)}\")\n",
    "print(f\"  new_expected={np.round(expected_new, 3).tolist()}\\n  new_observed={np.round(observed_new, 3).tolist()}\")\n",
    "\n",
    "observed_new, expected_new = sort_points_new_method(observed, expected)\n",
    "print(f\"\\nThe new sort method that really sort points returns: {compare_detection_coordinates(observed_new, expected_new)}\")\n",
    "print(f\"  new_expected={np.round(expected_new, 3).tolist()}\\n  new_observed={np.round(observed_new, 3).tolist()}\")\n",
    "\n",
    "\n",
    "observed_new, expected_new = reorder_points_by_matching(observed, expected)\n",
    "print(f\"\\nThe matching-reorder method returns: {compare_detection_coordinates(observed_new, expected_new)}\")\n",
    "print(f\"  new_expected={np.round(expected_new, 3).tolist()}\\n  new_observed={np.round(observed_new, 3).tolist()}\")"
   ]
  },
  {
   "cell_type": "markdown",
   "id": "6ca90ec2-9b7c-47be-a896-46140f060869",
   "metadata": {},
   "source": [
    "# Case 2"
   ]
  },
  {
   "cell_type": "markdown",
   "id": "e4a5f936-6482-44a7-b921-c278ce8ef039",
   "metadata": {},
   "source": [
    "This case only presents two observed points, and it can be seen that the x-coordinate of the first point is greater than its y-coordinate. Surprisingly, the method currently in use has swapped the two, which is clearly incorrect."
   ]
  },
  {
   "cell_type": "code",
   "execution_count": 4,
   "id": "8809cf0b-6dcc-4d5a-b50b-a1af545020fd",
   "metadata": {},
   "outputs": [
    {
     "name": "stdout",
     "output_type": "stream",
     "text": [
      "raw_observed=[[0.375, 0.25], [0.367, 0.826]]\n",
      "\n",
      "The sort method currently in use: \n",
      "new_observed=[[0.25, 0.375], [0.367, 0.826]]\n",
      "\n",
      "The new sort method that really sort points returns: \n",
      "new_observed=[[0.367, 0.826], [0.375, 0.25]]\n"
     ]
    }
   ],
   "source": [
    "observed = [[0.375, 0.25], [0.36742424242424243, 0.8257575757575758]]\n",
    "\n",
    "print(f\"raw_observed={np.round(observed, 3).tolist()}\")\n",
    "\n",
    "observed_new, _ = current_sort_method(observed, observed)\n",
    "print(f\"\\nThe sort method currently in use: \\nnew_observed={np.round(observed_new, 3).tolist()}\")\n",
    "\n",
    "observed_new, _ = sort_points_new_method(observed, observed)\n",
    "print(f\"\\nThe new sort method that really sort points returns: \\nnew_observed={np.round(observed_new, 3).tolist()}\")"
   ]
  },
  {
   "cell_type": "markdown",
   "id": "151bf664-8255-4e2f-8917-7b53c3d2b53e",
   "metadata": {},
   "source": [
    "# Case 3"
   ]
  },
  {
   "cell_type": "markdown",
   "id": "a3a3dfe5-d9de-487d-a6a8-53d035b24bd4",
   "metadata": {},
   "source": [
    "This case is quite special. I initially thought that as long as both the expected and observed points were correctly sorted, everything would be fail-safe. However, in this case, although the observed points were correctly sorted, the expected points were incorrectly sorted by their y-coordinates because their x-coordinates were exactly the same, leading to a mistakenly returned False. In fact, even if the x-coordinates of the two expected points were not equal, as long as the coordinates of the first point were slightly less than those of the second point, the same mistake would occur. This means that when the coordinates of two points are close to each other, some minor, normal random errors could lead to completely opposite results, which is unacceptable.   \n",
    "\n",
    "On the other hand, surprisingly, the method currently being used has \"stumbled into the correct outcome\" through errors, which may explain why, in some cases, performance actually declined after this bug was fixed.   \n",
    "\n",
    "Meanwhile, the final method I recommend, the matching method, is not affected by this because it employs a completely different logic, which should also be more reasonable."
   ]
  },
  {
   "cell_type": "code",
   "execution_count": 5,
   "id": "8278fa50-1381-4ee3-98d2-4c322c55c764",
   "metadata": {},
   "outputs": [
    {
     "name": "stdout",
     "output_type": "stream",
     "text": [
      "Should be True.\n",
      "  raw_expected=[[0.5, 0.188], [0.5, 0.688]]\n",
      "  raw_observed=[[0.549, 0.242], [0.456, 0.688]]\n",
      "\n",
      "The sort method currently in use returns: True\n",
      "  new_expected=[[0.188, 0.5], [0.5, 0.688]]\n",
      "  new_observed=[[0.242, 0.549], [0.456, 0.688]]\n",
      "\n",
      "The new sort method that really sort points returns: False\n",
      "  new_expected=[[0.5, 0.188], [0.5, 0.688]]\n",
      "  new_observed=[[0.456, 0.688], [0.549, 0.242]]\n",
      "\n",
      "The matching-reorder method returns: True\n",
      "  new_expected=[[0.5, 0.188], [0.5, 0.688]]\n",
      "  new_observed=[[0.549, 0.242], [0.456, 0.688]]\n"
     ]
    }
   ],
   "source": [
    "expected = [[0.5, 0.1875], [0.5, 0.6875]]\n",
    "observed = [[0.5492424242424243, 0.2424242424242424], [0.4557291666666667, 0.6875]]\n",
    "\n",
    "expected, observed = np.array(expected), np.array(observed)\n",
    "\n",
    "should_be = True\n",
    "\n",
    "print(f\"Should be {should_be}.\\n  raw_expected={np.round(expected, 3).tolist()}\\n  raw_observed={np.round(observed, 3).tolist()}\")\n",
    "\n",
    "observed_new, expected_new = current_sort_method(observed, expected)\n",
    "print(f\"\\nThe sort method currently in use returns: {compare_detection_coordinates(observed_new, expected_new)}\")\n",
    "print(f\"  new_expected={np.round(expected_new, 3).tolist()}\\n  new_observed={np.round(observed_new, 3).tolist()}\")\n",
    "\n",
    "observed_new, expected_new = sort_points_new_method(observed, expected)\n",
    "print(f\"\\nThe new sort method that really sort points returns: {compare_detection_coordinates(observed_new, expected_new)}\")\n",
    "print(f\"  new_expected={np.round(expected_new, 3).tolist()}\\n  new_observed={np.round(observed_new, 3).tolist()}\")\n",
    "\n",
    "observed_new, expected_new = reorder_points_by_matching(observed, expected)\n",
    "print(f\"\\nThe matching-reorder method returns: {compare_detection_coordinates(observed_new, expected_new)}\")\n",
    "print(f\"  new_expected={np.round(expected_new, 3).tolist()}\\n  new_observed={np.round(observed_new, 3).tolist()}\")"
   ]
  },
  {
   "cell_type": "markdown",
   "id": "2a6b3ab9-f2fc-444c-9936-bd966a3dd216",
   "metadata": {},
   "source": [
    "# CPU Time Comparison"
   ]
  },
  {
   "cell_type": "markdown",
   "id": "41caf2a7-a95e-423f-a3ac-5c72a538d006",
   "metadata": {},
   "source": [
    "The suggested method (reordering by matching) is significantly more complicated than the other two methods, leading to a increase of CPU time. Luckily, such an increase is not too much and should be affordable"
   ]
  },
  {
   "cell_type": "markdown",
   "id": "35073be9-a763-411c-a584-e7d633520fea",
   "metadata": {},
   "source": [
    "### Current Method"
   ]
  },
  {
   "cell_type": "code",
   "execution_count": 6,
   "id": "74a6e493-ad7d-445f-aca1-0ced643d4cad",
   "metadata": {},
   "outputs": [
    {
     "name": "stdout",
     "output_type": "stream",
     "text": [
      "1.58 µs ± 7.02 ns per loop (mean ± std. dev. of 7 runs, 1,000,000 loops each)\n"
     ]
    }
   ],
   "source": [
    "%%timeit\n",
    "\n",
    "observed_new, expected_new = current_sort_method(observed, expected)"
   ]
  },
  {
   "cell_type": "markdown",
   "id": "ee210521-669d-4cf8-a011-d31937d7e977",
   "metadata": {},
   "source": [
    "### New Method of Sorting Points"
   ]
  },
  {
   "cell_type": "code",
   "execution_count": 7,
   "id": "ef99a78c-3523-4a86-9860-e9ae530f15d7",
   "metadata": {},
   "outputs": [
    {
     "name": "stdout",
     "output_type": "stream",
     "text": [
      "2.25 µs ± 8.67 ns per loop (mean ± std. dev. of 7 runs, 100,000 loops each)\n"
     ]
    }
   ],
   "source": [
    "%%timeit\n",
    "\n",
    "observed_new, expected_new = sort_points_new_method(observed, expected)"
   ]
  },
  {
   "cell_type": "markdown",
   "id": "ba76e358-4cfe-4872-937d-59a8f6b48fe4",
   "metadata": {},
   "source": [
    "### New Method of Reordering Points by Matching"
   ]
  },
  {
   "cell_type": "code",
   "execution_count": 8,
   "id": "ce60f248-7b50-4864-baae-45d98917479a",
   "metadata": {},
   "outputs": [
    {
     "name": "stdout",
     "output_type": "stream",
     "text": [
      "3.26 µs ± 11.5 ns per loop (mean ± std. dev. of 7 runs, 100,000 loops each)\n"
     ]
    }
   ],
   "source": [
    "%%timeit\n",
    "\n",
    "observed_new, expected_new = reorder_points_by_matching(observed, expected)"
   ]
  }
 ],
 "metadata": {
  "kernelspec": {
   "display_name": "Python 3 (ipykernel)",
   "language": "python",
   "name": "python3"
  },
  "language_info": {
   "codemirror_mode": {
    "name": "ipython",
    "version": 3
   },
   "file_extension": ".py",
   "mimetype": "text/x-python",
   "name": "python",
   "nbconvert_exporter": "python",
   "pygments_lexer": "ipython3",
   "version": "3.11.5"
  }
 },
 "nbformat": 4,
 "nbformat_minor": 5
}
