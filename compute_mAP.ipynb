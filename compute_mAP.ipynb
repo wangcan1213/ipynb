{
 "cells": [
  {
   "cell_type": "code",
   "execution_count": 1,
   "metadata": {},
   "outputs": [],
   "source": [
    "from typing import Dict, List, Tuple\n",
    "\n",
    "import torch\n",
    "from torch import nn, Tensor\n",
    "import numpy as np"
   ]
  },
  {
   "cell_type": "code",
   "execution_count": 2,
   "metadata": {},
   "outputs": [],
   "source": [
    "@torch.no_grad()\n",
    "def boxCxcywh2Xyxy(box: Tensor) -> Tensor:\n",
    "    cx, cy, w, h = box.unbind(-1)\n",
    "\n",
    "    x1 = cx - w / 2\n",
    "    y1 = cy - h / 2\n",
    "    x2 = cx + w / 2\n",
    "    y2 = cy + h / 2\n",
    "\n",
    "    return torch.stack([x1, y1, x2, y2], -1)\n",
    "\n",
    "@torch.no_grad()\n",
    "def boxIoU(boxes1: Tensor, boxes2: Tensor) -> Tuple[Tensor, Tensor]:\n",
    "    boxes1Area = (boxes1[..., 2] - boxes1[..., 0]) * (boxes1[..., 3] - boxes1[..., 1])\n",
    "    boxes2Area = (boxes2[..., 2] - boxes2[..., 0]) * (boxes2[..., 3] - boxes2[..., 1])\n",
    "\n",
    "    lt = torch.max(boxes1[:, None, :2], boxes2[:, :2])\n",
    "    rb = torch.min(boxes1[:, None, 2:], boxes2[:, 2:])\n",
    "\n",
    "    wh = (rb - lt).clamp(min=0)\n",
    "    intersectArea = wh[:, :, 0] * wh[:, :, 1]\n",
    "\n",
    "    unionArea = boxes1Area[:, None] + boxes2Area - intersectArea\n",
    "\n",
    "    iou = intersectArea / unionArea\n",
    "    return iou, unionArea"
   ]
  },
  {
   "cell_type": "code",
   "execution_count": 3,
   "metadata": {},
   "outputs": [],
   "source": [
    "def computeMAP(x: Dict[str, Tensor], y: List[Dict[str, Tensor]], numClass):\n",
    "        \"\"\"\n",
    "        :param x: a dictionary containing:\n",
    "            'class': a tensor of shape [batchSize, numObjects, numClass + 1]\n",
    "            'bbox': a tensor of shape [batchSize, numObjects, 4]\n",
    "\n",
    "        :param y: a list of dictionaries containing:\n",
    "            'labels': a tensor of shape [numObjects] that stores the ground-truth classes of objects\n",
    "            'boxes': a tensor of shape [numObjects, 4] that stores the ground-truth bounding boxes of objects\n",
    "            represented as [centerX, centerY, w, h]\n",
    "        :numClass: number of classes\n",
    "\n",
    "        :return: mean average precision\n",
    "        \"\"\"\n",
    "\n",
    "        # MARK: - classification loss\n",
    "        logits = torch.Tensor(x['class'])\n",
    "\n",
    "        targetClassO = torch.Tensor(np.concatenate([np.asarray(t['labels']).reshape(1, len(t['labels'])) for t in y], 0))\n",
    "\n",
    "        # MARK: - bbox loss\n",
    "        # ignore boxes that has no object\n",
    "        mask = targetClassO != numClass\n",
    "        boxes = torch.Tensor(x['bbox'][mask])\n",
    "        targetBoxes = torch.Tensor(np.concatenate([np.expand_dims(t['boxes'], 0) for t  in y], 0)[mask])\n",
    "\n",
    "        numBoxes = len(targetBoxes) + 1e-6\n",
    "\n",
    "        # MARK: - compute statistics\n",
    "        with torch.no_grad():\n",
    "            predClass = nn.functional.softmax(logits, -1).max(-1)[1]\n",
    "            classMask = (predClass == targetClassO)[mask]\n",
    "            iou = torch.diag(boxIoU(boxCxcywh2Xyxy(boxes), boxCxcywh2Xyxy(targetBoxes))[0])\n",
    "            ap = []\n",
    "            for threshold in range(50, 100, 5):\n",
    "                ap.append(((iou >= threshold / 100) * classMask).sum() / numBoxes)\n",
    "\n",
    "            ap = torch.mean(torch.stack(ap))\n",
    "\n",
    "        return ap"
   ]
  },
  {
   "cell_type": "markdown",
   "metadata": {},
   "source": [
    "## Directly Running main() will throw such error"
   ]
  },
  {
   "cell_type": "code",
   "execution_count": 4,
   "metadata": {},
   "outputs": [
    {
     "ename": "RuntimeError",
     "evalue": "Expected object of scalar type Long but got scalar type Float for argument #2 'other'",
     "output_type": "error",
     "traceback": [
      "\u001b[1;31m---------------------------------------------------------------------------\u001b[0m",
      "\u001b[1;31mRuntimeError\u001b[0m                              Traceback (most recent call last)",
      "\u001b[1;32m<ipython-input-4-7c7dc3a53fbd>\u001b[0m in \u001b[0;36m<module>\u001b[1;34m\u001b[0m\n\u001b[0;32m     10\u001b[0m         \u001b[0mt\u001b[0m\u001b[1;33m[\u001b[0m\u001b[1;34m'boxes'\u001b[0m\u001b[1;33m]\u001b[0m \u001b[1;33m=\u001b[0m \u001b[0mnp\u001b[0m\u001b[1;33m.\u001b[0m\u001b[0mrandom\u001b[0m\u001b[1;33m.\u001b[0m\u001b[0mrand\u001b[0m\u001b[1;33m(\u001b[0m\u001b[1;36m4\u001b[0m\u001b[1;33m,\u001b[0m\u001b[1;36m4\u001b[0m\u001b[1;33m)\u001b[0m\u001b[1;33m\u001b[0m\u001b[1;33m\u001b[0m\u001b[0m\n\u001b[0;32m     11\u001b[0m         \u001b[0my\u001b[0m\u001b[1;33m.\u001b[0m\u001b[0mappend\u001b[0m\u001b[1;33m(\u001b[0m\u001b[0mt\u001b[0m\u001b[1;33m)\u001b[0m\u001b[1;33m\u001b[0m\u001b[1;33m\u001b[0m\u001b[0m\n\u001b[1;32m---> 12\u001b[1;33m     \u001b[0mprint\u001b[0m\u001b[1;33m(\u001b[0m\u001b[0mcomputeMAP\u001b[0m\u001b[1;33m(\u001b[0m\u001b[0mx\u001b[0m\u001b[1;33m,\u001b[0m \u001b[0my\u001b[0m\u001b[1;33m,\u001b[0m \u001b[1;36m2\u001b[0m\u001b[1;33m)\u001b[0m\u001b[1;33m)\u001b[0m\u001b[1;33m\u001b[0m\u001b[1;33m\u001b[0m\u001b[0m\n\u001b[0m",
      "\u001b[1;32m<ipython-input-3-677dbc6c7048>\u001b[0m in \u001b[0;36mcomputeMAP\u001b[1;34m(x, y, numClass)\u001b[0m\n\u001b[0;32m     30\u001b[0m         \u001b[1;32mwith\u001b[0m \u001b[0mtorch\u001b[0m\u001b[1;33m.\u001b[0m\u001b[0mno_grad\u001b[0m\u001b[1;33m(\u001b[0m\u001b[1;33m)\u001b[0m\u001b[1;33m:\u001b[0m\u001b[1;33m\u001b[0m\u001b[1;33m\u001b[0m\u001b[0m\n\u001b[0;32m     31\u001b[0m             \u001b[0mpredClass\u001b[0m \u001b[1;33m=\u001b[0m \u001b[0mnn\u001b[0m\u001b[1;33m.\u001b[0m\u001b[0mfunctional\u001b[0m\u001b[1;33m.\u001b[0m\u001b[0msoftmax\u001b[0m\u001b[1;33m(\u001b[0m\u001b[0mlogits\u001b[0m\u001b[1;33m,\u001b[0m \u001b[1;33m-\u001b[0m\u001b[1;36m1\u001b[0m\u001b[1;33m)\u001b[0m\u001b[1;33m.\u001b[0m\u001b[0mmax\u001b[0m\u001b[1;33m(\u001b[0m\u001b[1;33m-\u001b[0m\u001b[1;36m1\u001b[0m\u001b[1;33m)\u001b[0m\u001b[1;33m[\u001b[0m\u001b[1;36m1\u001b[0m\u001b[1;33m]\u001b[0m\u001b[1;33m\u001b[0m\u001b[1;33m\u001b[0m\u001b[0m\n\u001b[1;32m---> 32\u001b[1;33m             \u001b[0mclassMask\u001b[0m \u001b[1;33m=\u001b[0m \u001b[1;33m(\u001b[0m\u001b[0mpredClass\u001b[0m \u001b[1;33m==\u001b[0m \u001b[0mtargetClassO\u001b[0m\u001b[1;33m)\u001b[0m\u001b[1;33m[\u001b[0m\u001b[0mmask\u001b[0m\u001b[1;33m]\u001b[0m\u001b[1;33m\u001b[0m\u001b[1;33m\u001b[0m\u001b[0m\n\u001b[0m\u001b[0;32m     33\u001b[0m             \u001b[0miou\u001b[0m \u001b[1;33m=\u001b[0m \u001b[0mtorch\u001b[0m\u001b[1;33m.\u001b[0m\u001b[0mdiag\u001b[0m\u001b[1;33m(\u001b[0m\u001b[0mboxIoU\u001b[0m\u001b[1;33m(\u001b[0m\u001b[0mboxCxcywh2Xyxy\u001b[0m\u001b[1;33m(\u001b[0m\u001b[0mboxes\u001b[0m\u001b[1;33m)\u001b[0m\u001b[1;33m,\u001b[0m \u001b[0mboxCxcywh2Xyxy\u001b[0m\u001b[1;33m(\u001b[0m\u001b[0mtargetBoxes\u001b[0m\u001b[1;33m)\u001b[0m\u001b[1;33m)\u001b[0m\u001b[1;33m[\u001b[0m\u001b[1;36m0\u001b[0m\u001b[1;33m]\u001b[0m\u001b[1;33m)\u001b[0m\u001b[1;33m\u001b[0m\u001b[1;33m\u001b[0m\u001b[0m\n\u001b[0;32m     34\u001b[0m             \u001b[0map\u001b[0m \u001b[1;33m=\u001b[0m \u001b[1;33m[\u001b[0m\u001b[1;33m]\u001b[0m\u001b[1;33m\u001b[0m\u001b[1;33m\u001b[0m\u001b[0m\n",
      "\u001b[1;31mRuntimeError\u001b[0m: Expected object of scalar type Long but got scalar type Float for argument #2 'other'"
     ]
    }
   ],
   "source": [
    "if __name__ == '__main__':\n",
    "    x = {}\n",
    "    x['class'] = np.random.randn(4, 4, 3)\n",
    "    x['bbox'] = np.random.rand(4, 4, 4)\n",
    "    \n",
    "    y = []\n",
    "    for i in range(4):\n",
    "        t = {}\n",
    "        t['labels'] = [0, 1, 0, 1]\n",
    "        t['boxes'] = np.random.rand(4,4)\n",
    "        y.append(t)\n",
    "    print(computeMAP(x, y, 2))"
   ]
  },
  {
   "cell_type": "markdown",
   "metadata": {},
   "source": [
    "## Version Reference "
   ]
  },
  {
   "cell_type": "code",
   "execution_count": 8,
   "metadata": {},
   "outputs": [
    {
     "name": "stdout",
     "output_type": "stream",
     "text": [
      "Numpy version:  1.19.2\n",
      "Pytorch version:  1.1.0\n"
     ]
    }
   ],
   "source": [
    "print('Numpy version: ', np.__version__)\n",
    "print('Pytorch version: ', torch.__version__)"
   ]
  },
  {
   "cell_type": "markdown",
   "metadata": {},
   "source": [
    "## Running Line by LIne "
   ]
  },
  {
   "cell_type": "markdown",
   "metadata": {},
   "source": [
    "It seems that x['bbox'][mask] will simply take the second 4x4 matrix of x['bbox'] and repeat it 4x4 times to form a 4x4x4x4, which looks strange to me. I don't think it is ignoring boxes without objects as comments indicate. Same to targetBoxes"
   ]
  },
  {
   "cell_type": "code",
   "execution_count": 10,
   "metadata": {},
   "outputs": [
    {
     "name": "stdout",
     "output_type": "stream",
     "text": [
      "\n",
      "x['bbox'], shape=(4, 4, 4)\n",
      "[[[0.57554573 0.13842347 0.93021693 0.1780981 ]\n",
      "  [0.76918678 0.36194517 0.34250077 0.44525331]\n",
      "  [0.93967581 0.69861593 0.96401425 0.99228171]\n",
      "  [0.84339975 0.16456694 0.44220892 0.16937428]]\n",
      "\n",
      " [[0.26681668 0.53628004 0.2688837  0.02346345]\n",
      "  [0.09278209 0.02989288 0.90094442 0.05706733]\n",
      "  [0.71767554 0.06986079 0.19711414 0.34239977]\n",
      "  [0.72031433 0.72727217 0.54567482 0.5997559 ]]\n",
      "\n",
      " [[0.14177796 0.69147427 0.84611442 0.99544954]\n",
      "  [0.53655877 0.65480848 0.02098628 0.77952664]\n",
      "  [0.56260845 0.70214682 0.24065189 0.4790804 ]\n",
      "  [0.4554265  0.48009895 0.6610222  0.25873037]]\n",
      "\n",
      " [[0.24571804 0.48273494 0.47073937 0.81817623]\n",
      "  [0.99321936 0.94752516 0.99490644 0.12420786]\n",
      "  [0.55982867 0.77226061 0.90827594 0.55274729]\n",
      "  [0.39546412 0.67409266 0.79862389 0.21357527]]]\n",
      "\n",
      "boxes, shape=torch.Size([4, 4, 4, 4])\n",
      "tensor([[[[0.2668, 0.5363, 0.2689, 0.0235],\n",
      "          [0.0928, 0.0299, 0.9009, 0.0571],\n",
      "          [0.7177, 0.0699, 0.1971, 0.3424],\n",
      "          [0.7203, 0.7273, 0.5457, 0.5998]],\n",
      "\n",
      "         [[0.2668, 0.5363, 0.2689, 0.0235],\n",
      "          [0.0928, 0.0299, 0.9009, 0.0571],\n",
      "          [0.7177, 0.0699, 0.1971, 0.3424],\n",
      "          [0.7203, 0.7273, 0.5457, 0.5998]],\n",
      "\n",
      "         [[0.2668, 0.5363, 0.2689, 0.0235],\n",
      "          [0.0928, 0.0299, 0.9009, 0.0571],\n",
      "          [0.7177, 0.0699, 0.1971, 0.3424],\n",
      "          [0.7203, 0.7273, 0.5457, 0.5998]],\n",
      "\n",
      "         [[0.2668, 0.5363, 0.2689, 0.0235],\n",
      "          [0.0928, 0.0299, 0.9009, 0.0571],\n",
      "          [0.7177, 0.0699, 0.1971, 0.3424],\n",
      "          [0.7203, 0.7273, 0.5457, 0.5998]]],\n",
      "\n",
      "\n",
      "        [[[0.2668, 0.5363, 0.2689, 0.0235],\n",
      "          [0.0928, 0.0299, 0.9009, 0.0571],\n",
      "          [0.7177, 0.0699, 0.1971, 0.3424],\n",
      "          [0.7203, 0.7273, 0.5457, 0.5998]],\n",
      "\n",
      "         [[0.2668, 0.5363, 0.2689, 0.0235],\n",
      "          [0.0928, 0.0299, 0.9009, 0.0571],\n",
      "          [0.7177, 0.0699, 0.1971, 0.3424],\n",
      "          [0.7203, 0.7273, 0.5457, 0.5998]],\n",
      "\n",
      "         [[0.2668, 0.5363, 0.2689, 0.0235],\n",
      "          [0.0928, 0.0299, 0.9009, 0.0571],\n",
      "          [0.7177, 0.0699, 0.1971, 0.3424],\n",
      "          [0.7203, 0.7273, 0.5457, 0.5998]],\n",
      "\n",
      "         [[0.2668, 0.5363, 0.2689, 0.0235],\n",
      "          [0.0928, 0.0299, 0.9009, 0.0571],\n",
      "          [0.7177, 0.0699, 0.1971, 0.3424],\n",
      "          [0.7203, 0.7273, 0.5457, 0.5998]]],\n",
      "\n",
      "\n",
      "        [[[0.2668, 0.5363, 0.2689, 0.0235],\n",
      "          [0.0928, 0.0299, 0.9009, 0.0571],\n",
      "          [0.7177, 0.0699, 0.1971, 0.3424],\n",
      "          [0.7203, 0.7273, 0.5457, 0.5998]],\n",
      "\n",
      "         [[0.2668, 0.5363, 0.2689, 0.0235],\n",
      "          [0.0928, 0.0299, 0.9009, 0.0571],\n",
      "          [0.7177, 0.0699, 0.1971, 0.3424],\n",
      "          [0.7203, 0.7273, 0.5457, 0.5998]],\n",
      "\n",
      "         [[0.2668, 0.5363, 0.2689, 0.0235],\n",
      "          [0.0928, 0.0299, 0.9009, 0.0571],\n",
      "          [0.7177, 0.0699, 0.1971, 0.3424],\n",
      "          [0.7203, 0.7273, 0.5457, 0.5998]],\n",
      "\n",
      "         [[0.2668, 0.5363, 0.2689, 0.0235],\n",
      "          [0.0928, 0.0299, 0.9009, 0.0571],\n",
      "          [0.7177, 0.0699, 0.1971, 0.3424],\n",
      "          [0.7203, 0.7273, 0.5457, 0.5998]]],\n",
      "\n",
      "\n",
      "        [[[0.2668, 0.5363, 0.2689, 0.0235],\n",
      "          [0.0928, 0.0299, 0.9009, 0.0571],\n",
      "          [0.7177, 0.0699, 0.1971, 0.3424],\n",
      "          [0.7203, 0.7273, 0.5457, 0.5998]],\n",
      "\n",
      "         [[0.2668, 0.5363, 0.2689, 0.0235],\n",
      "          [0.0928, 0.0299, 0.9009, 0.0571],\n",
      "          [0.7177, 0.0699, 0.1971, 0.3424],\n",
      "          [0.7203, 0.7273, 0.5457, 0.5998]],\n",
      "\n",
      "         [[0.2668, 0.5363, 0.2689, 0.0235],\n",
      "          [0.0928, 0.0299, 0.9009, 0.0571],\n",
      "          [0.7177, 0.0699, 0.1971, 0.3424],\n",
      "          [0.7203, 0.7273, 0.5457, 0.5998]],\n",
      "\n",
      "         [[0.2668, 0.5363, 0.2689, 0.0235],\n",
      "          [0.0928, 0.0299, 0.9009, 0.0571],\n",
      "          [0.7177, 0.0699, 0.1971, 0.3424],\n",
      "          [0.7203, 0.7273, 0.5457, 0.5998]]]])\n",
      "\n",
      "mask, shape=torch.Size([4, 4])\n",
      "tensor([[1, 1, 1, 1],\n",
      "        [1, 1, 1, 1],\n",
      "        [1, 1, 1, 1],\n",
      "        [1, 1, 1, 1]], dtype=torch.uint8)\n"
     ]
    }
   ],
   "source": [
    "numClass = 2\n",
    "# MARK: - classification loss\n",
    "logits = torch.Tensor(x['class'])\n",
    "\n",
    "targetClassO = torch.Tensor(np.concatenate([np.asarray(t['labels']).reshape(1, len(t['labels'])) for t in y], 0))\n",
    "\n",
    "# MARK: - bbox loss\n",
    "# ignore boxes that has no object\n",
    "mask = targetClassO != numClass\n",
    "boxes = torch.Tensor(x['bbox'][mask])\n",
    "targetBoxes = torch.Tensor(np.concatenate([np.expand_dims(t['boxes'], 0) for t  in y], 0)[mask])\n",
    "\n",
    "print(\"\\nx['bbox'], shape={}\".format(x['bbox'].shape))\n",
    "print(x['bbox'])\n",
    "print(\"\\nboxes, shape={}\".format(boxes.shape))\n",
    "print(boxes)\n",
    "print(\"\\nmask, shape={}\".format(mask.shape))\n",
    "print(mask)"
   ]
  },
  {
   "cell_type": "markdown",
   "metadata": {},
   "source": [
    "I think num of bbox should be 16 rather than 4 if no bbox is ignored (as indicated from mask)"
   ]
  },
  {
   "cell_type": "code",
   "execution_count": 12,
   "metadata": {},
   "outputs": [
    {
     "name": "stdout",
     "output_type": "stream",
     "text": [
      "numBoxes =  4.000001\n"
     ]
    }
   ],
   "source": [
    "numBoxes = len(targetBoxes) + 1e-6\n",
    "print('numBoxes = ', numBoxes)"
   ]
  }
 ],
 "metadata": {
  "kernelspec": {
   "display_name": "Python 3",
   "language": "python",
   "name": "python3"
  },
  "language_info": {
   "codemirror_mode": {
    "name": "ipython",
    "version": 3
   },
   "file_extension": ".py",
   "mimetype": "text/x-python",
   "name": "python",
   "nbconvert_exporter": "python",
   "pygments_lexer": "ipython3",
   "version": "3.7.3"
  }
 },
 "nbformat": 4,
 "nbformat_minor": 2
}
