{
 "cells": [
  {
   "cell_type": "code",
   "execution_count": 1,
   "metadata": {},
   "outputs": [],
   "source": [
    "from transport_network import Transport_Network,  Polygon_Location, Mode\n",
    "from mobility_service_model import MobilityModel\n",
    "import matplotlib.pyplot as plt\n",
    "import numpy as np\n",
    "import json\n",
    "import pandas as pd\n",
    "from os import path"
   ]
  },
  {
   "cell_type": "code",
   "execution_count": 2,
   "metadata": {},
   "outputs": [],
   "source": [
    "tn=Transport_Network('corktown', 'Detroit')"
   ]
  },
  {
   "cell_type": "code",
   "execution_count": 7,
   "metadata": {},
   "outputs": [
    {
     "data": {
      "text/plain": [
       "{'driving': {'walking': 0,\n",
       "  'cycling': 0,\n",
       "  'driving': 70.62140909000009,\n",
       "  'pt': 0,\n",
       "  'waiting': 0},\n",
       " 'pt': {'walking': 291.9818864254913,\n",
       "  'cycling': 0,\n",
       "  'driving': 0,\n",
       "  'pt': 47.483333333333306,\n",
       "  'waiting': 2.013349993707768},\n",
       " 'walking': {'walking': 444.6913952375,\n",
       "  'cycling': 0,\n",
       "  'driving': 0,\n",
       "  'pt': 0,\n",
       "  'waiting': 0},\n",
       " 'cycling': {'walking': 0,\n",
       "  'cycling': 141.24281818000017,\n",
       "  'driving': 0,\n",
       "  'pt': 0,\n",
       "  'waiting': 0}}"
      ]
     },
     "execution_count": 7,
     "metadata": {},
     "output_type": "execute_result"
    }
   ],
   "source": [
    "tn.get_external_costs('261635879001', 1)"
   ]
  },
  {
   "cell_type": "code",
   "execution_count": 39,
   "metadata": {},
   "outputs": [
    {
     "name": "stdout",
     "output_type": "stream",
     "text": [
      "['4608468629', '62615807', '4608468625', '4608468627', '4608468628', '3239797433', '3239797432', '6023694019', '3755258291', '4608468621']\n"
     ]
    }
   ],
   "source": [
    "%matplotlib qt\n",
    "node_to_lon_lat= tn.node_to_lon_lat\n",
    "lls = np.asarray([x for x in node_to_lon_lat.values()])\n",
    "plt.plot(lls[:,0], lls[:,1], 'k.', markersize=1)\n",
    "plt.axis('off')\n",
    "\n",
    "#================how to use this method============#\n",
    "point_query = [-83.078, 42.334]\n",
    "nearest_10_nodes_id = tn.get_closest_internal_nodes(point_query, n_nodes=10)\n",
    "print(nearest_10_nodes)\n",
    "#================how to use this method============#\n",
    "\n",
    "nearest_10_nodes_lls = np.asarray([node_to_lon_lat[id] for id in nearest_10_nodes_id])\n",
    "plt.plot(point_query[0], point_query[1], 'rx', markersize=10)\n",
    "plt.plot(nearest_10_nodes_lls[:,0], nearest_10_nodes_lls[:,1], 'ro', markersize=2)\n",
    "plt.show()"
   ]
  },
  {
   "cell_type": "code",
   "execution_count": 45,
   "metadata": {},
   "outputs": [
    {
     "name": "stdout",
     "output_type": "stream",
     "text": [
      "['62615804', '3755258293', '4608468625', '62615807', '4608468629', '62673011', '4608468613', '62673009', '334420822', '62673002', '62589090', '4608468601', '62589101', '4608468600', '4956715006', '62688689', '3752254074', '63015043', '4956715004', '6551679742', '6551679745', '5337879961', '4484794160', '62913588', '62913639', '4484794161', '5337887343', '4216058503', '4956715003', '62893325', '62923577', '7181797620', '62597333', '7264990144', '6011190803', '62760467', '4956715001', '4956715002', '6011190802', '3405663202', '62887334', '3405663196', '62716645', '5893845816', '3751816099', '5893845812', '62768635', '5893845813', '3751816090', '6303689671', '62759490', '6303689672', '5728880017', '3751816086', '6303689670', '62887326', '6303689669', '5872587322', '3751807520', '6303689668', '62649122', '5864637714', '5728880019', '5728880021', '5864637713', '4664507564', '5864607346', '5864607379', '5864607345', '5864607347', '5864607350', '5864607344']\n"
     ]
    }
   ],
   "source": [
    "node_to_lon_lat= tn.node_to_lon_lat\n",
    "lls = np.asarray([x for x in node_to_lon_lat.values()])\n",
    "plt.plot(lls[:,0], lls[:,1], 'k.', markersize=1)\n",
    "plt.axis('off')\n",
    "\n",
    "# origin and destination\n",
    "from_point = [-83.0799, 42.3354]\n",
    "to_point = [-83.0638, 42.3266]\n",
    "from_list = tn.get_closest_internal_nodes(from_point, 10)\n",
    "to_list = tn.get_closest_internal_nodes(to_point, 10)\n",
    "\n",
    "#================how to use this method============#\n",
    "path = tn.get_node_path_from_fw_try_multi(from_list, to_list)\n",
    "print(path)\n",
    "#================how to use this method============#\n",
    "\n",
    "path_lls = np.asarray([node_to_lon_lat[id] for id in path])\n",
    "plt.plot([from_point[0], to_point[0]], [from_point[1], to_point[1]], 'rx', markersize=10)\n",
    "plt.plot(path_lls[:,0], path_lls[:,1], 'r-o', markersize=2)\n",
    "plt.axis('off')\n",
    "plt.show()"
   ]
  },
  {
   "cell_type": "code",
   "execution_count": 3,
   "metadata": {},
   "outputs": [
    {
     "name": "stdout",
     "output_type": "stream",
     "text": [
      "Building transport network\n",
      "Building geography\n",
      "Building synthetic population\n"
     ]
    }
   ],
   "source": [
    "model = MobilityModel('corktown', 'Detroit')"
   ]
  },
  {
   "cell_type": "code",
   "execution_count": 69,
   "metadata": {
    "scrolled": true
   },
   "outputs": [
    {
     "name": "stdout",
     "output_type": "stream",
     "text": [
      "dict_keys(['driving', 'cycling', 'walking', 'pt'])\n",
      "dict_keys(['costs', 'internal_route'])\n",
      "dict_keys(['driving', 'walking', 'waiting', 'cycling', 'pt'])\n",
      "dict_keys(['node_path', 'distances', 'total_distance', 'coords'])\n"
     ]
    }
   ],
   "source": [
    "from_loc = model.geogrid.cells[0]\n",
    "to_loc = model.zones[100]\n",
    "routes = tn.get_internal_routes(from_loc, to_loc)\n",
    "json.dump(routes, open('tmp.json','w'))\n",
    "print(routes.keys())\n",
    "print(routes['driving'].keys())\n",
    "print(routes['driving']['costs'].keys())\n",
    "print(routes['driving']['internal_route'].keys())"
   ]
  },
  {
   "cell_type": "code",
   "execution_count": 70,
   "metadata": {},
   "outputs": [
    {
     "name": "stdout",
     "output_type": "stream",
     "text": [
      "dict_keys(['driving', 'cycling', 'walking', 'pt'])\n",
      "dict_keys(['costs', 'internal_route'])\n",
      "dict_keys(['driving', 'walking', 'waiting', 'cycling', 'pt'])\n",
      "dict_keys(['node_path', 'distances', 'total_distance', 'coords'])\n"
     ]
    }
   ],
   "source": [
    "from_loc = model.geogrid.cells[0]\n",
    "to_loc = model.zones[100]\n",
    "routes = tn.get_approx_routes(from_loc, to_loc)\n",
    "json.dump(routes, open('tmp.json','w'))\n",
    "print(routes.keys())\n",
    "print(routes['driving'].keys())\n",
    "print(routes['driving']['costs'].keys())\n",
    "print(routes['driving']['internal_route'].keys())"
   ]
  },
  {
   "cell_type": "code",
   "execution_count": 80,
   "metadata": {},
   "outputs": [
    {
     "name": "stdout",
     "output_type": "stream",
     "text": [
      "dict_keys(['driving', 'pt', 'walking', 'cycling'])\n",
      "Type:  <class 'transport_network.Route'>\n",
      "{'walking': 0, 'cycling': 0, 'driving': 29.77025266432603, 'pt': 0, 'waiting': 0}\n",
      "{'costs': {'driving': 0.11071185232601982, 'walking': 0, 'waiting': 0, 'cycling': 0, 'pt': 0}, 'internal_route': {'node_path': ['4216023758', '1865191542', '62676208', '4691680405'], 'distances': [32.99764856723928, 11.56212145783734, 10.774013767468082], 'total_distance': 55.33378379254471, 'coords': [[-83.09057320000001, 42.336131099999996], [-83.09020699999999, 42.3362527], [-83.0900785, 42.336295], [-83.0899573, 42.3363319]]}}\n",
      "Pre time:  0\n",
      "Post time:  29.65954081200001\n"
     ]
    }
   ],
   "source": [
    "from_loc = model.geogrid.cells[0]\n",
    "to_loc = model.zones[100]\n",
    "routes = tn.get_routes(from_loc, to_loc)\n",
    "print(routes.keys())\n",
    "print('Type: ', type(routes['driving']))\n",
    "print(routes['driving'].costs)\n",
    "print(routes['driving'].internal_route)\n",
    "print('Pre time: ', routes['driving'].pre_time)\n",
    "print('Post time: ', routes['driving'].post_time)"
   ]
  },
  {
   "cell_type": "code",
   "execution_count": 98,
   "metadata": {},
   "outputs": [],
   "source": [
    "x = np.asarray(range(40,121, 1))\n",
    "y1 = (x-40)*50\n",
    "y2 = (x-30)*40\n",
    "plt.plot(x, y1, label='(x-40)*50')\n",
    "plt.plot(x,y2, label='(x-30)*40')\n",
    "plt.xlim([40, 120])\n",
    "plt.plot([80,80], [-500,2000], 'k--')\n",
    "plt.plot([0,80], [2000,2000], 'k--')\n",
    "plt.ylim([-500, 4500])\n",
    "plt.legend()\n",
    "plt.show()"
   ]
  },
  {
   "cell_type": "code",
   "execution_count": 127,
   "metadata": {},
   "outputs": [
    {
     "data": {
      "text/plain": [
       "{'type': 'Polygon',\n",
       " 'coordinates': [[[-83.060396, 42.33628],\n",
       "   [-83.059948, 42.33639],\n",
       "   [-83.058524, 42.337008],\n",
       "   [-83.056567, 42.338267],\n",
       "   [-83.055742, 42.338763],\n",
       "   [-83.05291, 42.339986],\n",
       "   [-83.0502, 42.335984],\n",
       "   [-83.053304, 42.334085],\n",
       "   [-83.053678, 42.333596],\n",
       "   [-83.052663, 42.331673],\n",
       "   [-83.061185, 42.331586],\n",
       "   [-83.062158, 42.332578],\n",
       "   [-83.064266, 42.335438],\n",
       "   [-83.060396, 42.33628]]]}"
      ]
     },
     "execution_count": 127,
     "metadata": {},
     "output_type": "execute_result"
    }
   ],
   "source": [
    "model.geogrid.cells[0].close_nodes\n",
    "model.zones[40].geometry\n",
    "# tn.portals[0].geoid"
   ]
  },
  {
   "cell_type": "code",
   "execution_count": 131,
   "metadata": {},
   "outputs": [
    {
     "data": {
      "text/html": [
       "<div>\n",
       "<style scoped>\n",
       "    .dataframe tbody tr th:only-of-type {\n",
       "        vertical-align: middle;\n",
       "    }\n",
       "\n",
       "    .dataframe tbody tr th {\n",
       "        vertical-align: top;\n",
       "    }\n",
       "\n",
       "    .dataframe thead th {\n",
       "        text-align: right;\n",
       "    }\n",
       "</style>\n",
       "<table border=\"1\" class=\"dataframe\">\n",
       "  <thead>\n",
       "    <tr style=\"text-align: right;\">\n",
       "      <th></th>\n",
       "      <th>P000</th>\n",
       "      <th>P001</th>\n",
       "      <th>P002</th>\n",
       "      <th>P003</th>\n",
       "      <th>P004</th>\n",
       "      <th>P005</th>\n",
       "      <th>P006</th>\n",
       "      <th>P007</th>\n",
       "      <th>P008</th>\n",
       "      <th>P009</th>\n",
       "      <th>...</th>\n",
       "      <th>P016</th>\n",
       "      <th>P017</th>\n",
       "      <th>P018</th>\n",
       "      <th>P019</th>\n",
       "      <th>P020</th>\n",
       "      <th>P021</th>\n",
       "      <th>P022</th>\n",
       "      <th>P023</th>\n",
       "      <th>cluster</th>\n",
       "      <th>cluster_name</th>\n",
       "    </tr>\n",
       "  </thead>\n",
       "  <tbody>\n",
       "    <tr>\n",
       "      <th>0</th>\n",
       "      <td>H</td>\n",
       "      <td>H</td>\n",
       "      <td>H</td>\n",
       "      <td>H</td>\n",
       "      <td>H</td>\n",
       "      <td>H</td>\n",
       "      <td>H</td>\n",
       "      <td>H</td>\n",
       "      <td>H</td>\n",
       "      <td>G</td>\n",
       "      <td>...</td>\n",
       "      <td>H</td>\n",
       "      <td>H</td>\n",
       "      <td>H</td>\n",
       "      <td>H</td>\n",
       "      <td>H</td>\n",
       "      <td>H</td>\n",
       "      <td>H</td>\n",
       "      <td>H</td>\n",
       "      <td>1</td>\n",
       "      <td>Homemakers</td>\n",
       "    </tr>\n",
       "    <tr>\n",
       "      <th>1</th>\n",
       "      <td>H</td>\n",
       "      <td>H</td>\n",
       "      <td>H</td>\n",
       "      <td>H</td>\n",
       "      <td>H</td>\n",
       "      <td>H</td>\n",
       "      <td>H</td>\n",
       "      <td>H</td>\n",
       "      <td>H</td>\n",
       "      <td>H</td>\n",
       "      <td>...</td>\n",
       "      <td>H</td>\n",
       "      <td>H</td>\n",
       "      <td>H</td>\n",
       "      <td>H</td>\n",
       "      <td>H</td>\n",
       "      <td>H</td>\n",
       "      <td>H</td>\n",
       "      <td>H</td>\n",
       "      <td>1</td>\n",
       "      <td>Homemakers</td>\n",
       "    </tr>\n",
       "    <tr>\n",
       "      <th>2</th>\n",
       "      <td>H</td>\n",
       "      <td>H</td>\n",
       "      <td>H</td>\n",
       "      <td>H</td>\n",
       "      <td>H</td>\n",
       "      <td>H</td>\n",
       "      <td>H</td>\n",
       "      <td>H</td>\n",
       "      <td>H</td>\n",
       "      <td>H</td>\n",
       "      <td>...</td>\n",
       "      <td>H</td>\n",
       "      <td>H</td>\n",
       "      <td>H</td>\n",
       "      <td>H</td>\n",
       "      <td>H</td>\n",
       "      <td>H</td>\n",
       "      <td>H</td>\n",
       "      <td>H</td>\n",
       "      <td>1</td>\n",
       "      <td>Homemakers</td>\n",
       "    </tr>\n",
       "    <tr>\n",
       "      <th>3</th>\n",
       "      <td>H</td>\n",
       "      <td>H</td>\n",
       "      <td>H</td>\n",
       "      <td>H</td>\n",
       "      <td>H</td>\n",
       "      <td>H</td>\n",
       "      <td>H</td>\n",
       "      <td>H</td>\n",
       "      <td>H</td>\n",
       "      <td>H</td>\n",
       "      <td>...</td>\n",
       "      <td>H</td>\n",
       "      <td>H</td>\n",
       "      <td>H</td>\n",
       "      <td>H</td>\n",
       "      <td>H</td>\n",
       "      <td>H</td>\n",
       "      <td>H</td>\n",
       "      <td>H</td>\n",
       "      <td>1</td>\n",
       "      <td>Homemakers</td>\n",
       "    </tr>\n",
       "    <tr>\n",
       "      <th>4</th>\n",
       "      <td>H</td>\n",
       "      <td>H</td>\n",
       "      <td>H</td>\n",
       "      <td>H</td>\n",
       "      <td>H</td>\n",
       "      <td>H</td>\n",
       "      <td>H</td>\n",
       "      <td>H</td>\n",
       "      <td>H</td>\n",
       "      <td>H</td>\n",
       "      <td>...</td>\n",
       "      <td>H</td>\n",
       "      <td>H</td>\n",
       "      <td>H</td>\n",
       "      <td>H</td>\n",
       "      <td>H</td>\n",
       "      <td>H</td>\n",
       "      <td>H</td>\n",
       "      <td>H</td>\n",
       "      <td>1</td>\n",
       "      <td>Homemakers</td>\n",
       "    </tr>\n",
       "  </tbody>\n",
       "</table>\n",
       "<p>5 rows × 26 columns</p>\n",
       "</div>"
      ],
      "text/plain": [
       "  P000 P001 P002 P003 P004 P005 P006 P007 P008 P009  ... P016 P017 P018 P019  \\\n",
       "0    H    H    H    H    H    H    H    H    H    G  ...    H    H    H    H   \n",
       "1    H    H    H    H    H    H    H    H    H    H  ...    H    H    H    H   \n",
       "2    H    H    H    H    H    H    H    H    H    H  ...    H    H    H    H   \n",
       "3    H    H    H    H    H    H    H    H    H    H  ...    H    H    H    H   \n",
       "4    H    H    H    H    H    H    H    H    H    H  ...    H    H    H    H   \n",
       "\n",
       "  P020 P021 P022 P023 cluster cluster_name  \n",
       "0    H    H    H    H       1   Homemakers  \n",
       "1    H    H    H    H       1   Homemakers  \n",
       "2    H    H    H    H       1   Homemakers  \n",
       "3    H    H    H    H       1   Homemakers  \n",
       "4    H    H    H    H       1   Homemakers  \n",
       "\n",
       "[5 rows x 26 columns]"
      ]
     },
     "execution_count": 131,
     "metadata": {},
     "output_type": "execute_result"
    }
   ],
   "source": [
    "m = pd.read_csv('./cities/Detroit/clean/motif_samples.csv')\n",
    "m.head()"
   ]
  },
  {
   "cell_type": "code",
   "execution_count": 133,
   "metadata": {},
   "outputs": [],
   "source": [
    "from activity_scheduler import ActivityScheduler\n",
    "asm = ActivityScheduler(model)"
   ]
  },
  {
   "cell_type": "code",
   "execution_count": 137,
   "metadata": {},
   "outputs": [
    {
     "data": {
      "text/plain": [
       "{'P000': 'H',\n",
       " 'P001': 'H',\n",
       " 'P002': 'H',\n",
       " 'P003': 'H',\n",
       " 'P004': 'H',\n",
       " 'P005': 'H',\n",
       " 'P006': 'H',\n",
       " 'P007': 'H',\n",
       " 'P008': 'H',\n",
       " 'P009': 'G',\n",
       " 'P010': 'H',\n",
       " 'P011': 'D',\n",
       " 'P012': 'D',\n",
       " 'P013': 'D',\n",
       " 'P014': 'V',\n",
       " 'P015': 'V',\n",
       " 'P016': 'H',\n",
       " 'P017': 'H',\n",
       " 'P018': 'H',\n",
       " 'P019': 'H',\n",
       " 'P020': 'H',\n",
       " 'P021': 'H',\n",
       " 'P022': 'H',\n",
       " 'P023': 'H',\n",
       " 'cluster': 1,\n",
       " 'cluster_name': 'Homemakers'}"
      ]
     },
     "execution_count": 137,
     "metadata": {},
     "output_type": "execute_result"
    }
   ],
   "source": [
    "asm.motif_sample_obj[0]"
   ]
  },
  {
   "cell_type": "code",
   "execution_count": 150,
   "metadata": {},
   "outputs": [
    {
     "name": "stdout",
     "output_type": "stream",
     "text": [
      "[<activity_scheduler.Activity object at 0x00000194018629B0>, <activity_scheduler.Activity object at 0x0000019401862C88>, <activity_scheduler.Activity object at 0x0000019401862AC8>]\n",
      "\n",
      "H\n",
      "Home\n",
      "365\n",
      "<transport_network.Polygon_Location object at 0x0000019400967710>\n",
      "[-82.94952576923077, 42.448419692307695]\n"
     ]
    }
   ],
   "source": [
    "asm = ActivityScheduler(model)\n",
    "person = model.pop.base_sim[0]\n",
    "asm.sample_activity_schedules(person, model)\n",
    "print(person.activities)\n",
    "a1 = person.activities[0]\n",
    "print('')\n",
    "print(a1.activity_id)\n",
    "print(a1.name)\n",
    "print(a1.start_time)\n",
    "print(a1.location)\n",
    "print(a1.location.centroid)"
   ]
  },
  {
   "cell_type": "code",
   "execution_count": 167,
   "metadata": {},
   "outputs": [],
   "source": [
    "folder = './cities/Detroit/clean'\n",
    "sim_pop = json.load(open(path.join(folder, 'sim_pop.json'), 'r'))\n",
    "for i , p in enumerate(sim_pop):\n",
    "    for k, v in p.items():\n",
    "        if v=='NaN' or v=='nan' or (isinstance(v, float) and np.isnan(v)): \n",
    "            sim_pop[i][k]=None\n",
    "json.dump(sim_pop, open(path.join(folder, 'sim_pop2.json'), 'w'))\n",
    "\n",
    "floating = json.load(open(path.join(folder, 'floating.json'), 'r'))\n",
    "for i , p in enumerate(floating):\n",
    "    for k, v in p.items():\n",
    "        if v=='NaN' or v=='nan' or (isinstance(v, float) and np.isnan(v)): \n",
    "            floating[i][k]=None\n",
    "json.dump(floating, open(path.join(folder, 'floating2.json'), 'w'))\n",
    "\n",
    "vacant = json.load(open(path.join(folder, 'vacant.json'), 'r'))\n",
    "for i , p in enumerate(vacant):\n",
    "    for k, v in p.items():\n",
    "        if v=='NaN' or v=='nan' or (isinstance(v, float) and np.isnan(v)): \n",
    "            vacant[i][k]=None\n",
    "json.dump(vacant, open(path.join(folder, 'vacant2.json'), 'w'))"
   ]
  },
  {
   "cell_type": "code",
   "execution_count": 9,
   "metadata": {
    "scrolled": true
   },
   "outputs": [
    {
     "name": "stdout",
     "output_type": "stream",
     "text": [
      "RandomForestClassifier(bootstrap=True, class_weight='balanced',\n",
      "                       criterion='gini', max_depth=10, max_features='auto',\n",
      "                       max_leaf_nodes=None, min_impurity_decrease=0.0,\n",
      "                       min_impurity_split=None, min_samples_leaf=1,\n",
      "                       min_samples_split=12, min_weight_fraction_leaf=0.0,\n",
      "                       n_estimators=32, n_jobs=None, oob_score=False,\n",
      "                       random_state=0, verbose=0, warm_start=False)\n"
     ]
    }
   ],
   "source": [
    "import pickle\n",
    "folder = './cities/Detroit/models'\n",
    "rf = pickle.load(open(path.join(folder, 'trip_mode_rf.p'), 'rb'))\n",
    "print(rf)"
   ]
  },
  {
   "cell_type": "code",
   "execution_count": 16,
   "metadata": {
    "scrolled": true
   },
   "outputs": [
    {
     "name": "stdout",
     "output_type": "stream",
     "text": [
      "just_point: True\n",
      "model: <pylogit.conditional_logit.MNL object at 0x00000258D5620A20>\n",
      "params: dict: \n",
      "    time_minutes: -0.0038899608846546803\n",
      "    drive_time_PT_minutes: 0.33714538076606515\n",
      "    income_gt100 for cycle: -0.23232330284548558\n",
      "    income_gt100 for walk: 0.29046598373117344\n",
      "    income_gt100 for PT: -0.03744839885809208\n",
      "    income_gt35-lt100 for cycle: -0.014737820374736352\n",
      "    income_gt35-lt100 for walk: 0.06921757817127394\n",
      "    income_gt35-lt100 for PT: -0.36851611169523874\n",
      "    income_lt35 for cycle: 0.03042728098125199\n",
      "    income_lt35 for walk: -0.10720014127908965\n",
      "    income_lt35 for PT: 0.021843414900332515\n",
      "    age_19 and under for cycle: 1.3317274337731626\n",
      "    age_19 and under for walk: 0.6556711525346325\n",
      "    age_19 and under for PT: 1.650895800141563\n",
      "    age_20 to 35 for cycle: 0.03262820253787115\n",
      "    age_20 to 35 for walk: -0.07981233909250676\n",
      "    age_20 to 35 for PT: -0.5526182598973802\n",
      "    age_35 to 60 for cycle: -0.32882613278399225\n",
      "    age_35 to 60 for walk: -0.1090351291247397\n",
      "    age_35 to 60 for PT: -0.7091992505962217\n",
      "    age_above 60 for cycle: -1.2521633445887543\n",
      "    age_above 60 for walk: -0.21434026405983464\n",
      "    age_above 60 for PT: -0.7731993750217127\n",
      "    children_no for cycle: -0.023728714954059007\n",
      "    children_no for walk: 0.4454307324837533\n",
      "    children_no for PT: 0.010154588257738226\n",
      "    children_yes for cycle: -0.19290512633830678\n",
      "    children_yes for walk: -0.1929473123719741\n",
      "    children_yes for PT: -0.394275680071797\n",
      "    workers_none for cycle: 0.34249199100248995\n",
      "    workers_none for walk: -0.5074650434702715\n",
      "    workers_none for PT: -0.668762179324043\n",
      "    workers_one for cycle: -0.11410640722737876\n",
      "    workers_one for walk: 0.2970861188793159\n",
      "    workers_one for PT: 0.1355570709492372\n",
      "    workers_two or more for cycle: -0.4450194245908425\n",
      "    workers_two or more for walk: 0.46286234566457135\n",
      "    workers_two or more for PT: 0.14908402927893444\n",
      "    sex_female for cycle: -0.7229833264268716\n",
      "    sex_female for walk: 0.026592142783626795\n",
      "    sex_female for PT: -0.4104891931522153\n",
      "    sex_male for cycle: 0.5063494916052323\n",
      "    sex_male for walk: 0.2258912796474452\n",
      "    sex_male for PT: 0.026368098468924392\n",
      "    bach_degree_no for cycle: -0.41925131556704687\n",
      "    bach_degree_no for walk: -0.10584264547261829\n",
      "    bach_degree_no for PT: -0.3672409090558172\n",
      "    bach_degree_yes for cycle: 0.20261747930171634\n",
      "    bach_degree_yes for walk: 0.35832606321532123\n",
      "    bach_degree_yes for PT: -0.016880177550285685\n",
      "    cars_none for cycle: 1.4991090446527646\n",
      "    cars_none for walk: 1.6633793768538885\n",
      "    cars_none for PT: 2.751405642515571\n",
      "    cars_one for cycle: -0.8704525519531771\n",
      "    cars_one for walk: -0.4740220351629983\n",
      "    cars_one for PT: -1.16900742717986\n",
      "    cars_two or more for cycle: -0.8452903227436166\n",
      "    cars_two or more for walk: -0.9368739207227907\n",
      "    cars_two or more for PT: -1.9665193009042594\n",
      "    race_asian for cycle: 0.3913877116626057\n",
      "    race_asian for walk: 0.31147119762834763\n",
      "    race_asian for PT: -0.03657828444728453\n",
      "    race_black for cycle: -0.7473158742940391\n",
      "    race_black for walk: 0.16923814562535502\n",
      "    race_black for PT: 0.5438026580817489\n",
      "    race_other for cycle: -0.3110679840457863\n",
      "    race_other for walk: -0.2058377923130514\n",
      "    race_other for PT: -0.5204208529209663\n",
      "    race_white for cycle: 0.4503623089863499\n",
      "    race_white for walk: -0.022388133676156552\n",
      "    race_white for PT: -0.3709246238310935\n",
      "    purpose_HBW for cycle: 0.36805845907481294\n",
      "    purpose_HBW for walk: -0.28277031010189113\n",
      "    purpose_HBW for PT: 0.4516144983825943\n",
      "    purpose_HBO for cycle: 0.06962845307659156\n",
      "    purpose_HBO for walk: 0.6503766200101015\n",
      "    purpose_HBO for PT: -0.4048034591375673\n",
      "    purpose_NHB for cycle: -0.6543207504389724\n",
      "    purpose_NHB for walk: -0.11512288543375537\n",
      "    purpose_NHB for PT: -0.43093212315204005\n",
      "    pop_per_sqmile_home for cycle: 8.153366621637825e-05\n",
      "    pop_per_sqmile_home for walk: 4.766479286812229e-05\n",
      "    pop_per_sqmile_home for PT: 8.275296593924703e-05\n",
      "    network_dist_km for cycle: -0.09752750170673125\n",
      "    network_dist_km for walk: -0.871748680390547\n",
      "    network_dist_km for PT: 0.009093094602984093\n",
      "    ASC for cycle: -0.21663382729021816\n",
      "    ASC for walk: 0.25248341298202387\n",
      "    ASC for PT: -0.3841210944235569\n"
     ]
    }
   ],
   "source": [
    "logit = pickle.load(open(path.join(folder, 'trip_mode_logit.p'), 'rb'))\n",
    "for k, v in logit.items():\n",
    "    if not isinstance(v, dict):\n",
    "        print('{}: {}'.format(k,v))\n",
    "    else:\n",
    "        print('{}: dict: '.format(k))\n",
    "        for k2, v2 in v.items():\n",
    "            print('    {}: {}'.format(k2,v2))"
   ]
  }
 ],
 "metadata": {
  "kernelspec": {
   "display_name": "Python 3",
   "language": "python",
   "name": "python3"
  },
  "language_info": {
   "codemirror_mode": {
    "name": "ipython",
    "version": 3
   },
   "file_extension": ".py",
   "mimetype": "text/x-python",
   "name": "python",
   "nbconvert_exporter": "python",
   "pygments_lexer": "ipython3",
   "version": "3.7.3"
  }
 },
 "nbformat": 4,
 "nbformat_minor": 2
}
